{
 "cells": [
  {
   "cell_type": "markdown",
   "id": "5ec4baf3",
   "metadata": {},
   "source": [
    "# data mentah"
   ]
  },
  {
   "cell_type": "code",
   "execution_count": 14,
   "id": "319b97b0",
   "metadata": {},
   "outputs": [
    {
     "name": "stdout",
     "output_type": "stream",
     "text": [
      "File berhasil disimpan sebagai Sport_car_full_data.xlsx\n"
     ]
    }
   ],
   "source": [
    "import pandas as pd\n",
    "\n",
    "# Load data asli\n",
    "file_path = \"Sport car price.csv\"\n",
    "df = pd.read_csv(file_path)\n",
    "\n",
    "# **Simpan hasil ke file Excel**\n",
    "output_file = \"Sport_car_full_data.xlsx\"\n",
    "df.to_excel(output_file, sheet_name=\"Sport Car Data\", index=False)\n",
    "\n",
    "print(f\"File berhasil disimpan sebagai {output_file}\")"
   ]
  },
  {
   "cell_type": "markdown",
   "id": "494a4d5c",
   "metadata": {},
   "source": [
    "# tahun"
   ]
  },
  {
   "cell_type": "code",
   "execution_count": null,
   "id": "89d74bfd",
   "metadata": {},
   "outputs": [
    {
     "name": "stdout",
     "output_type": "stream",
     "text": [
      "File berhasil disimpan sebagai Sport_car_analysis_2019_2023.xlsx\n"
     ]
    }
   ],
   "source": [
    "import pandas as pd\n",
    "\n",
    "# Load data asli\n",
    "file_path = \"Sport car price.csv\"\n",
    "df = pd.read_csv(file_path)\n",
    "\n",
    "# Pastikan ada kolom Year, jika tidak ada tambahkan tahun default (misalnya 2023)\n",
    "if \"Year\" not in df.columns:\n",
    "    df[\"Year\"] = 2023  # Atur tahun default jika tidak ada dalam dataset\n",
    "\n",
    "# Filter hanya tahun dalam rentang 2019-2023\n",
    "df_years = df[df[\"Year\"].between(2019, 2023)][[\"Car Make\", \"Year\"]].drop_duplicates()\n",
    "\n",
    "# **Simpan hasil ke file Excel**\n",
    "output_file = \"Sport_car_years_2019_2023.xlsx\"\n",
    "df_years.to_excel(output_file, sheet_name=\"Tahun 2019-2023\", index=False)\n",
    "\n",
    "print(f\"File berhasil disimpan sebagai {output_file}\")"
   ]
  },
  {
   "cell_type": "markdown",
   "id": "7cf23501",
   "metadata": {},
   "source": [
    "# tahun harga"
   ]
  },
  {
   "cell_type": "code",
   "execution_count": 4,
   "id": "94f96602",
   "metadata": {},
   "outputs": [
    {
     "name": "stdout",
     "output_type": "stream",
     "text": [
      "File berhasil disimpan sebagai Sport_car_analysis_2019_2023.xlsx\n"
     ]
    }
   ],
   "source": [
    "import pandas as pd\n",
    "\n",
    "# Load data asli\n",
    "file_path = \"Sport car price.csv\"\n",
    "df = pd.read_csv(file_path)\n",
    "\n",
    "# Pastikan ada kolom Year, jika tidak ada tambahkan tahun default (misalnya 2023)\n",
    "if \"Year\" not in df.columns:\n",
    "    df[\"Year\"] = 2023  # Atur tahun default jika tidak ada dalam dataset\n",
    "\n",
    "# Bersihkan harga\n",
    "df[\"Price (in USD)\"] = df[\"Price (in USD)\"].replace(\",\", \"\", regex=True).astype(float)\n",
    "\n",
    "# Bersihkan kolom Horsepower dari karakter non-angka\n",
    "df[\"Horsepower\"] = df[\"Horsepower\"].str.replace(r\"[^\\d.]\", \"\", regex=True)\n",
    "\n",
    "# Konversi ke angka (float), tangani error dengan NaN jika tidak valid\n",
    "df[\"Horsepower\"] = pd.to_numeric(df[\"Horsepower\"], errors=\"coerce\")\n",
    "\n",
    "# Hapus baris dengan nilai NaN setelah konversi\n",
    "df.dropna(subset=[\"Horsepower\"], inplace=True)\n",
    "\n",
    "# Filter data hanya untuk tahun 2019-2023\n",
    "df_filtered = df[df[\"Year\"].between(2019, 2023)]\n",
    "\n",
    "# Ambil harga terendah dan tertinggi per merek di setiap tahun\n",
    "df_lowest_price = df_filtered.loc[df_filtered.groupby([\"Car Make\", \"Year\"])[\"Price (in USD)\"].idxmin(), [\"Car Make\", \"Year\", \"Price (in USD)\"]]\n",
    "df_highest_price = df_filtered.loc[df_filtered.groupby([\"Car Make\", \"Year\"])[\"Price (in USD)\"].idxmax(), [\"Car Make\", \"Year\", \"Price (in USD)\"]]\n",
    "\n",
    "df_price_combined = pd.merge(df_lowest_price, df_highest_price, on=[\"Car Make\", \"Year\"], suffixes=(\"_Lowest\", \"_Highest\"))\n",
    "\n",
    "# Ambil horsepower terendah dan tertinggi per merek di setiap tahun\n",
    "df_lowest_hp = df_filtered.loc[df_filtered.groupby([\"Car Make\", \"Year\"])[\"Horsepower\"].idxmin(), [\"Car Make\", \"Year\", \"Horsepower\"]]\n",
    "df_highest_hp = df_filtered.loc[df_filtered.groupby([\"Car Make\", \"Year\"])[\"Horsepower\"].idxmax(), [\"Car Make\", \"Year\", \"Horsepower\"]]\n",
    "\n",
    "df_hp_combined = pd.merge(df_lowest_hp, df_highest_hp, on=[\"Car Make\", \"Year\"], suffixes=(\"_Lowest\", \"_Highest\"))\n",
    "\n",
    "# **Simpan hasil ke file Excel dengan dua sheet**\n",
    "output_file = \"Sport_car_analysis_2019_2023.xlsx\"\n",
    "with pd.ExcelWriter(output_file) as writer:\n",
    "    df_price_combined.to_excel(writer, sheet_name=\"Harga 2019-2023\", index=False)\n",
    "    df_hp_combined.to_excel(writer, sheet_name=\"Horsepower 2019-2023\", index=False)\n",
    "\n",
    "print(f\"File berhasil disimpan sebagai {output_file}\")"
   ]
  },
  {
   "cell_type": "markdown",
   "id": "e888f211",
   "metadata": {},
   "source": [
    "# udah lengkap"
   ]
  },
  {
   "cell_type": "code",
   "execution_count": 6,
   "id": "dc39d556",
   "metadata": {},
   "outputs": [
    {
     "name": "stdout",
     "output_type": "stream",
     "text": [
      "File berhasil disimpan sebagai Sport_car_analysis_2019_2023.xlsx\n"
     ]
    }
   ],
   "source": [
    "import pandas as pd\n",
    "\n",
    "# Load data asli\n",
    "file_path = \"Sport car price.csv\"\n",
    "df = pd.read_csv(file_path)\n",
    "\n",
    "# Pastikan ada kolom Year, jika tidak ada tambahkan tahun default (misalnya 2023)\n",
    "if \"Year\" not in df.columns:\n",
    "    df[\"Year\"] = 2023  # Atur tahun default jika tidak ada dalam dataset\n",
    "\n",
    "# Bersihkan harga\n",
    "df[\"Price (in USD)\"] = df[\"Price (in USD)\"].replace(\",\", \"\", regex=True).astype(float)\n",
    "\n",
    "# Bersihkan kolom Horsepower dari karakter non-angka\n",
    "df[\"Horsepower\"] = df[\"Horsepower\"].str.replace(r\"[^\\d.]\", \"\", regex=True)\n",
    "\n",
    "# Konversi ke angka (float), tangani error dengan NaN jika tidak valid\n",
    "df[\"Horsepower\"] = pd.to_numeric(df[\"Horsepower\"], errors=\"coerce\")\n",
    "\n",
    "# Hapus baris dengan nilai NaN setelah konversi\n",
    "df.dropna(subset=[\"Horsepower\"], inplace=True)\n",
    "\n",
    "# Filter data hanya untuk tahun 2019-2023\n",
    "df_filtered = df[df[\"Year\"].between(2019, 2023)]\n",
    "\n",
    "# Ambil harga terendah dan tertinggi per merek di setiap tahun\n",
    "df_lowest_price = df_filtered.loc[df_filtered.groupby([\"Car Make\", \"Year\"])[\"Price (in USD)\"].idxmin(), [\"Car Make\", \"Year\", \"Price (in USD)\"]]\n",
    "df_highest_price = df_filtered.loc[df_filtered.groupby([\"Car Make\", \"Year\"])[\"Price (in USD)\"].idxmax(), [\"Car Make\", \"Year\", \"Price (in USD)\"]]\n",
    "\n",
    "df_price_combined = pd.merge(df_lowest_price, df_highest_price, on=[\"Car Make\", \"Year\"], suffixes=(\"_Lowest\", \"_Highest\"))\n",
    "\n",
    "# Ambil horsepower terendah dan tertinggi per merek di setiap tahun\n",
    "df_lowest_hp = df_filtered.loc[df_filtered.groupby([\"Car Make\", \"Year\"])[\"Horsepower\"].idxmin(), [\"Car Make\", \"Year\", \"Horsepower\"]]\n",
    "df_highest_hp = df_filtered.loc[df_filtered.groupby([\"Car Make\", \"Year\"])[\"Horsepower\"].idxmax(), [\"Car Make\", \"Year\", \"Horsepower\"]]\n",
    "\n",
    "df_hp_combined = pd.merge(df_lowest_hp, df_highest_hp, on=[\"Car Make\", \"Year\"], suffixes=(\"_Lowest\", \"_Highest\"))\n",
    "\n",
    "# **Gabungkan semua data ke dalam satu sheet**\n",
    "df_combined = pd.merge(df_price_combined, df_hp_combined, on=[\"Car Make\", \"Year\"])\n",
    "\n",
    "# **Simpan hasil ke file Excel**\n",
    "output_file = \"Sport_car_analysis_2019_2023.xlsx\"\n",
    "df_combined.to_excel(output_file, sheet_name=\"Harga & Horsepower 2019-2023\", index=False)\n",
    "\n",
    "print(f\"File berhasil disimpan sebagai {output_file}\")"
   ]
  },
  {
   "cell_type": "markdown",
   "id": "8c4c2409",
   "metadata": {},
   "source": [
    "# terbaik"
   ]
  },
  {
   "cell_type": "code",
   "execution_count": 10,
   "id": "c5d64ed9",
   "metadata": {},
   "outputs": [
    {
     "name": "stdout",
     "output_type": "stream",
     "text": [
      "File berhasil disimpan sebagai Sport_car_extremes_2019_2023.xlsx\n"
     ]
    }
   ],
   "source": [
    "import pandas as pd\n",
    "\n",
    "# Load data asli\n",
    "file_path = \"Sport car price.csv\"\n",
    "df = pd.read_csv(file_path)\n",
    "\n",
    "# Pastikan ada kolom Year, jika tidak ada tambahkan tahun default (misalnya 2023)\n",
    "if \"Year\" not in df.columns:\n",
    "    df[\"Year\"] = 2023  # Atur tahun default jika tidak ada dalam dataset\n",
    "\n",
    "# Bersihkan harga\n",
    "df[\"Price (in USD)\"] = df[\"Price (in USD)\"].replace(\",\", \"\", regex=True).astype(float)\n",
    "\n",
    "# Bersihkan kolom Horsepower dari karakter non-angka\n",
    "df[\"Horsepower\"] = df[\"Horsepower\"].str.replace(r\"[^\\d.]\", \"\", regex=True)\n",
    "\n",
    "# Konversi ke angka (float), tangani error dengan NaN jika tidak valid\n",
    "df[\"Horsepower\"] = pd.to_numeric(df[\"Horsepower\"], errors=\"coerce\")\n",
    "\n",
    "# Hapus baris dengan nilai NaN setelah konversi\n",
    "df.dropna(subset=[\"Horsepower\"], inplace=True)\n",
    "\n",
    "# Filter hanya data untuk tahun 2019-2023\n",
    "df_filtered = df[df[\"Year\"].between(2019, 2023)]\n",
    "\n",
    "# Buat tabel untuk menyimpan hasil\n",
    "final_results = []\n",
    "\n",
    "# Looping setiap tahun\n",
    "for year in range(2019, 2024):\n",
    "    df_year = df_filtered[df_filtered[\"Year\"] == year]\n",
    "    \n",
    "    # Harga tertinggi dan terendah\n",
    "    highest_price = df_year.loc[df_year[\"Price (in USD)\"].idxmax(), [\"Car Make\", \"Price (in USD)\"]]\n",
    "    lowest_price = df_year.loc[df_year[\"Price (in USD)\"].idxmin(), [\"Car Make\", \"Price (in USD)\"]]\n",
    "    \n",
    "    # Horsepower tertinggi dan terendah\n",
    "    highest_hp = df_year.loc[df_year[\"Horsepower\"].idxmax(), [\"Car Make\", \"Horsepower\"]]\n",
    "    lowest_hp = df_year.loc[df_year[\"Horsepower\"].idxmin(), [\"Car Make\", \"Horsepower\"]]\n",
    "    \n",
    "    # Gabungkan data\n",
    "    final_results.append([\n",
    "        year, highest_price[\"Car Make\"], highest_price[\"Price (in USD)\"],\n",
    "        lowest_price[\"Car Make\"], lowest_price[\"Price (in USD)\"],\n",
    "        highest_hp[\"Car Make\"], highest_hp[\"Horsepower\"],\n",
    "        lowest_hp[\"Car Make\"], lowest_hp[\"Horsepower\"]\n",
    "    ])\n",
    "\n",
    "# Konversi hasil ke DataFrame\n",
    "df_final = pd.DataFrame(final_results, columns=[\n",
    "    \"Year\", \"Most Expensive Car\", \"Highest Price\", \n",
    "    \"Cheapest Car\", \"Lowest Price\", \n",
    "    \"Highest HP Car\", \"Highest HP\", \n",
    "    \"Lowest HP Car\", \"Lowest HP\"\n",
    "])\n",
    "\n",
    "# **Simpan hasil ke file Excel**\n",
    "output_file = \"Sport_car_extremes_2019_2023.xlsx\"\n",
    "df_final.to_excel(output_file, sheet_name=\"Extreme Cars per Year\", index=False)\n",
    "\n",
    "print(f\"File berhasil disimpan sebagai {output_file}\")"
   ]
  }
 ],
 "metadata": {
  "kernelspec": {
   "display_name": ".venv",
   "language": "python",
   "name": "python3"
  },
  "language_info": {
   "codemirror_mode": {
    "name": "ipython",
    "version": 3
   },
   "file_extension": ".py",
   "mimetype": "text/x-python",
   "name": "python",
   "nbconvert_exporter": "python",
   "pygments_lexer": "ipython3",
   "version": "3.12.3"
  }
 },
 "nbformat": 4,
 "nbformat_minor": 5
}
